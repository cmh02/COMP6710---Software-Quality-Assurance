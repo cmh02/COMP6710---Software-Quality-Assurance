{
 "cells": [
  {
   "cell_type": "markdown",
   "id": "d619978c",
   "metadata": {},
   "source": [
    "# Bandit Output Parser\n",
    "\n",
    "I'm unsure of a better or quicker way to do this, so i'm going to load the bandit output file to get the most common errors."
   ]
  },
  {
   "cell_type": "code",
   "execution_count": 2,
   "id": "e99a6b0a",
   "metadata": {},
   "outputs": [
    {
     "name": "stdout",
     "output_type": "stream",
     "text": [
      "Issue Counts:\n",
      ">> Issue: [B101:assert_used] Use of assert detected. The enclosed code will be removed when compiling to optimised byte code. \n",
      "\tCount: 30\n",
      ">> Issue: [B311:blacklist] Standard pseudo-random generators are not suitable for security/cryptographic purposes. \n",
      "\tCount: 7\n",
      ">> Issue: [B614:pytorch_load] Use of unsafe PyTorch load \n",
      "\tCount: 5\n",
      ">> Issue: [B603:subprocess_without_shell_equals_true] subprocess call - check for execution of untrusted input. \n",
      "\tCount: 2\n",
      ">> Issue: [B404:blacklist] Consider possible security implications associated with the subprocess module. \n",
      "\tCount: 1\n",
      ">> Issue: [B403:blacklist] Consider possible security implications associated with pickle module. \n",
      "\tCount: 1\n",
      ">> Issue: [B301:blacklist] Pickle and modules that wrap it can be unsafe when used to deserialize untrusted data, possible security issue. \n",
      "\tCount: 1\n",
      ">> Issue: [B607:start_process_with_partial_path] Starting a process with a partial executable path \n",
      "\tCount: 1\n",
      ">> Issue: [B110:try_except_pass] Try, Except, Pass detected. \n",
      "\tCount: 1\n"
     ]
    }
   ],
   "source": [
    "# Create dict for storing counts\n",
    "issueCounts = {}\n",
    "\n",
    "# Open the file in read mode\n",
    "with open('banditoutput.txt', 'r') as file:\n",
    "\n",
    "\t# Read each line in the file\n",
    "\tfor line in file:\n",
    "\n",
    "\t\t# Check if the line beings with issue header\n",
    "\t\tif line.startswith(\">> Issue: \"):\n",
    "\n",
    "\t\t\t# Add the line to the dict and increment count\n",
    "\t\t\tif line in issueCounts:\n",
    "\t\t\t\tissueCounts[line] += 1\n",
    "\t\t\telse:\n",
    "\t\t\t\tissueCounts[line] = 1\n",
    "\n",
    "\n",
    "# Print the counts for each issue, sorted by count\n",
    "print(f\"Issue Counts:\")\n",
    "for issue, count in sorted(issueCounts.items(), key=lambda x: x[1], reverse=True):\n",
    "\tprint(f\"{issue.strip()} \\n\tCount: {count}\")"
   ]
  }
 ],
 "metadata": {
  "kernelspec": {
   "display_name": ".venv",
   "language": "python",
   "name": "python3"
  },
  "language_info": {
   "codemirror_mode": {
    "name": "ipython",
    "version": 3
   },
   "file_extension": ".py",
   "mimetype": "text/x-python",
   "name": "python",
   "nbconvert_exporter": "python",
   "pygments_lexer": "ipython3",
   "version": "3.13.5"
  }
 },
 "nbformat": 4,
 "nbformat_minor": 5
}
